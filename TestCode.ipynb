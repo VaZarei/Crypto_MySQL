{
 "cells": [
  {
   "cell_type": "code",
   "execution_count": null,
   "metadata": {},
   "outputs": [],
   "source": [
    "pip install yfinance\n"
   ]
  },
  {
   "cell_type": "code",
   "execution_count": 4,
   "metadata": {},
   "outputs": [],
   "source": [
    "import yfinance as yf\n",
    "from datetime import datetime\n",
    "import time\n"
   ]
  },
  {
   "cell_type": "code",
   "execution_count": 2,
   "metadata": {},
   "outputs": [],
   "source": [
    "ticker = \"ADA-USD\"\n",
    "start = \"2010-11-10\"\n",
    "end = \"2020-12-20\"\n",
    "end1 = datetime.now()\n",
    "interval = \"1d\"\n"
   ]
  },
  {
   "cell_type": "code",
   "execution_count": 10,
   "metadata": {},
   "outputs": [
    {
     "name": "stdout",
     "output_type": "stream",
     "text": [
      "<class 'datetime.datetime'>\n",
      "Yess\n"
     ]
    }
   ],
   "source": [
    "type(end1)\n",
    "print(type(end1))\n",
    "\n",
    "if str(type(end1))  == \"<class 'datetime.datetime'>\" :\n",
    "    print( \"Yess\")"
   ]
  },
  {
   "cell_type": "code",
   "execution_count": 91,
   "metadata": {},
   "outputs": [
    {
     "data": {
      "text/plain": [
       "1501"
      ]
     },
     "execution_count": 91,
     "metadata": {},
     "output_type": "execute_result"
    }
   ],
   "source": [
    "startDate = date(int(start[0:4]) , int(start[5:7]),  int(start[8:10]))\n",
    "endDate = date(int(end[0:4]) , int(end[5:7]),  int(end[8:10]))\n",
    "\n",
    "t = endDate - startDate\n",
    "t.days\n",
    "#end - startDate"
   ]
  },
  {
   "cell_type": "code",
   "execution_count": null,
   "metadata": {},
   "outputs": [],
   "source": []
  },
  {
   "cell_type": "code",
   "execution_count": null,
   "metadata": {},
   "outputs": [],
   "source": [
    "start[0:4]"
   ]
  },
  {
   "cell_type": "markdown",
   "metadata": {},
   "source": [
    "باید کدی نوشته شود که \n",
    "1 : نخست اختلاف را بدست آورد\n",
    "2 : سپس متغیر interval  را بررسی کند.\n",
    "3 : برای بازه یک روز باید طول فاصله زیر یا مساوی 60 روز باشد\n",
    "4 : برای "
   ]
  },
  {
   "cell_type": "code",
   "execution_count": null,
   "metadata": {},
   "outputs": [],
   "source": [
    "intEnd= int(''.join(end.split('-')))\n",
    "\n",
    "intStart = int(''.join(start.split('-')))\n",
    "intEnd , intStart\n"
   ]
  },
  {
   "cell_type": "code",
   "execution_count": null,
   "metadata": {},
   "outputs": [],
   "source": []
  },
  {
   "cell_type": "code",
   "execution_count": null,
   "metadata": {},
   "outputs": [],
   "source": [
    "from datetime import date, timedelta\n",
    "date1 = date(2011, 10, 10)\n",
    "date3 = date(2011, 10, 11)\n",
    "#date2 = date1 + timedelta(days=22)\n",
    "date3\n",
    "#print (date2)"
   ]
  },
  {
   "cell_type": "code",
   "execution_count": 11,
   "metadata": {},
   "outputs": [],
   "source": [
    "ticker = \"ADA-USD\"\n",
    "start = \"2023-01-01\"\n",
    "end = \"2023-02-16\"\n",
    "#end = datetime.now()\n",
    "interval = \"2m\""
   ]
  },
  {
   "cell_type": "code",
   "execution_count": 12,
   "metadata": {},
   "outputs": [
    {
     "name": "stdout",
     "output_type": "stream",
     "text": [
      "[*********************100%***********************]  1 of 1 completed\n"
     ]
    },
    {
     "data": {
      "text/html": [
       "<div>\n",
       "<style scoped>\n",
       "    .dataframe tbody tr th:only-of-type {\n",
       "        vertical-align: middle;\n",
       "    }\n",
       "\n",
       "    .dataframe tbody tr th {\n",
       "        vertical-align: top;\n",
       "    }\n",
       "\n",
       "    .dataframe thead th {\n",
       "        text-align: right;\n",
       "    }\n",
       "</style>\n",
       "<table border=\"1\" class=\"dataframe\">\n",
       "  <thead>\n",
       "    <tr style=\"text-align: right;\">\n",
       "      <th></th>\n",
       "      <th>Open</th>\n",
       "      <th>High</th>\n",
       "      <th>Low</th>\n",
       "      <th>Close</th>\n",
       "      <th>Adj Close</th>\n",
       "      <th>Volume</th>\n",
       "    </tr>\n",
       "    <tr>\n",
       "      <th>Datetime</th>\n",
       "      <th></th>\n",
       "      <th></th>\n",
       "      <th></th>\n",
       "      <th></th>\n",
       "      <th></th>\n",
       "      <th></th>\n",
       "    </tr>\n",
       "  </thead>\n",
       "  <tbody>\n",
       "    <tr>\n",
       "      <th>2023-01-18 00:00:00+00:00</th>\n",
       "      <td>0.345771</td>\n",
       "      <td>0.345771</td>\n",
       "      <td>0.345583</td>\n",
       "      <td>0.345583</td>\n",
       "      <td>0.345583</td>\n",
       "      <td>0</td>\n",
       "    </tr>\n",
       "    <tr>\n",
       "      <th>2023-01-18 00:02:00+00:00</th>\n",
       "      <td>0.345745</td>\n",
       "      <td>0.345745</td>\n",
       "      <td>0.345722</td>\n",
       "      <td>0.345722</td>\n",
       "      <td>0.345722</td>\n",
       "      <td>0</td>\n",
       "    </tr>\n",
       "    <tr>\n",
       "      <th>2023-01-18 00:04:00+00:00</th>\n",
       "      <td>0.345822</td>\n",
       "      <td>0.345871</td>\n",
       "      <td>0.345822</td>\n",
       "      <td>0.345871</td>\n",
       "      <td>0.345871</td>\n",
       "      <td>47872</td>\n",
       "    </tr>\n",
       "    <tr>\n",
       "      <th>2023-01-18 00:06:00+00:00</th>\n",
       "      <td>0.345895</td>\n",
       "      <td>0.346297</td>\n",
       "      <td>0.345895</td>\n",
       "      <td>0.346297</td>\n",
       "      <td>0.346297</td>\n",
       "      <td>0</td>\n",
       "    </tr>\n",
       "    <tr>\n",
       "      <th>2023-01-18 00:08:00+00:00</th>\n",
       "      <td>0.346294</td>\n",
       "      <td>0.346344</td>\n",
       "      <td>0.346294</td>\n",
       "      <td>0.346344</td>\n",
       "      <td>0.346344</td>\n",
       "      <td>3232</td>\n",
       "    </tr>\n",
       "  </tbody>\n",
       "</table>\n",
       "</div>"
      ],
      "text/plain": [
       "                               Open      High       Low     Close  Adj Close  \\\n",
       "Datetime                                                                       \n",
       "2023-01-18 00:00:00+00:00  0.345771  0.345771  0.345583  0.345583   0.345583   \n",
       "2023-01-18 00:02:00+00:00  0.345745  0.345745  0.345722  0.345722   0.345722   \n",
       "2023-01-18 00:04:00+00:00  0.345822  0.345871  0.345822  0.345871   0.345871   \n",
       "2023-01-18 00:06:00+00:00  0.345895  0.346297  0.345895  0.346297   0.346297   \n",
       "2023-01-18 00:08:00+00:00  0.346294  0.346344  0.346294  0.346344   0.346344   \n",
       "\n",
       "                           Volume  \n",
       "Datetime                           \n",
       "2023-01-18 00:00:00+00:00       0  \n",
       "2023-01-18 00:02:00+00:00       0  \n",
       "2023-01-18 00:04:00+00:00   47872  \n",
       "2023-01-18 00:06:00+00:00       0  \n",
       "2023-01-18 00:08:00+00:00    3232  "
      ]
     },
     "execution_count": 12,
     "metadata": {},
     "output_type": "execute_result"
    }
   ],
   "source": [
    "\n",
    "data = yf.download(ticker, start, end, interval=interval)\n",
    "\n",
    "data"
   ]
  },
  {
   "cell_type": "code",
   "execution_count": null,
   "metadata": {},
   "outputs": [],
   "source": []
  }
 ],
 "metadata": {
  "interpreter": {
   "hash": "a9d6a17380d4f2bf74f48d7ea6d5e8873b2d05ced240c727502ffaaa02ada5a7"
  },
  "kernelspec": {
   "display_name": "Python 3.9.7 ('base')",
   "language": "python",
   "name": "python3"
  },
  "language_info": {
   "codemirror_mode": {
    "name": "ipython",
    "version": 3
   },
   "file_extension": ".py",
   "mimetype": "text/x-python",
   "name": "python",
   "nbconvert_exporter": "python",
   "pygments_lexer": "ipython3",
   "version": "3.9.7"
  },
  "orig_nbformat": 4
 },
 "nbformat": 4,
 "nbformat_minor": 2
}
