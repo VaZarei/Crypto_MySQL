{
 "cells": [
  {
   "cell_type": "code",
   "execution_count": null,
   "metadata": {},
   "outputs": [],
   "source": [
    "pip install yfinance\n"
   ]
  },
  {
   "cell_type": "code",
   "execution_count": 1,
   "metadata": {},
   "outputs": [],
   "source": [
    "import yfinance as yf\n",
    "from datetime import datetime\n",
    "import time\n"
   ]
  },
  {
   "cell_type": "code",
   "execution_count": 2,
   "metadata": {},
   "outputs": [],
   "source": [
    "ticker = \"ADA-USD\"\n",
    "start = \"2010-11-10\"\n",
    "end = \"2020-12-20\"\n",
    "end1 = datetime.now()\n",
    "interval = \"1d\"\n"
   ]
  },
  {
   "cell_type": "code",
   "execution_count": 10,
   "metadata": {},
   "outputs": [
    {
     "name": "stdout",
     "output_type": "stream",
     "text": [
      "<class 'datetime.datetime'>\n",
      "Yess\n"
     ]
    }
   ],
   "source": [
    "type(end1)\n",
    "print(type(end1))\n",
    "\n",
    "if str(type(end1))  == \"<class 'datetime.datetime'>\" :\n",
    "    print( \"Yess\")"
   ]
  },
  {
   "cell_type": "code",
   "execution_count": 91,
   "metadata": {},
   "outputs": [
    {
     "data": {
      "text/plain": [
       "1501"
      ]
     },
     "execution_count": 91,
     "metadata": {},
     "output_type": "execute_result"
    }
   ],
   "source": [
    "startDate = date(int(start[0:4]) , int(start[5:7]),  int(start[8:10]))\n",
    "endDate = date(int(end[0:4]) , int(end[5:7]),  int(end[8:10]))\n",
    "\n",
    "t = endDate - startDate\n",
    "t.days\n",
    "#end - startDate"
   ]
  },
  {
   "cell_type": "code",
   "execution_count": null,
   "metadata": {},
   "outputs": [],
   "source": []
  },
  {
   "cell_type": "code",
   "execution_count": null,
   "metadata": {},
   "outputs": [],
   "source": [
    "start[0:4]"
   ]
  },
  {
   "cell_type": "markdown",
   "metadata": {},
   "source": [
    "باید کدی نوشته شود که \n",
    "1 : نخست اختلاف را بدست آورد\n",
    "2 : سپس متغیر interval  را بررسی کند.\n",
    "3 : برای بازه یک روز باید طول فاصله زیر یا مساوی 60 روز باشد\n",
    "4 : برای "
   ]
  },
  {
   "cell_type": "code",
   "execution_count": null,
   "metadata": {},
   "outputs": [],
   "source": [
    "intEnd= int(''.join(end.split('-')))\n",
    "\n",
    "intStart = int(''.join(start.split('-')))\n",
    "intEnd , intStart\n"
   ]
  },
  {
   "cell_type": "code",
   "execution_count": null,
   "metadata": {},
   "outputs": [],
   "source": []
  },
  {
   "cell_type": "code",
   "execution_count": null,
   "metadata": {},
   "outputs": [],
   "source": [
    "from datetime import date, timedelta\n",
    "date1 = date(2011, 10, 10)\n",
    "date3 = date(2011, 10, 11)\n",
    "#date2 = date1 + timedelta(days=22)\n",
    "date3\n",
    "#print (date2)"
   ]
  },
  {
   "cell_type": "code",
   "execution_count": 43,
   "metadata": {},
   "outputs": [],
   "source": [
    "ticker = \"ADA-USD\"\n",
    "start = \"2022-12-25\"\n",
    "end = \"2023-02-17\"\n",
    "#end = datetime.now()\n",
    "interval = \"2m\""
   ]
  },
  {
   "cell_type": "code",
   "execution_count": 44,
   "metadata": {},
   "outputs": [
    {
     "name": "stdout",
     "output_type": "stream",
     "text": [
      "[*********************100%***********************]  1 of 1 completed\n"
     ]
    },
    {
     "data": {
      "text/html": [
       "<div>\n",
       "<style scoped>\n",
       "    .dataframe tbody tr th:only-of-type {\n",
       "        vertical-align: middle;\n",
       "    }\n",
       "\n",
       "    .dataframe tbody tr th {\n",
       "        vertical-align: top;\n",
       "    }\n",
       "\n",
       "    .dataframe thead th {\n",
       "        text-align: right;\n",
       "    }\n",
       "</style>\n",
       "<table border=\"1\" class=\"dataframe\">\n",
       "  <thead>\n",
       "    <tr style=\"text-align: right;\">\n",
       "      <th></th>\n",
       "      <th>Open</th>\n",
       "      <th>High</th>\n",
       "      <th>Low</th>\n",
       "      <th>Close</th>\n",
       "      <th>Adj Close</th>\n",
       "      <th>Volume</th>\n",
       "    </tr>\n",
       "    <tr>\n",
       "      <th>Datetime</th>\n",
       "      <th></th>\n",
       "      <th></th>\n",
       "      <th></th>\n",
       "      <th></th>\n",
       "      <th></th>\n",
       "      <th></th>\n",
       "    </tr>\n",
       "  </thead>\n",
       "  <tbody>\n",
       "    <tr>\n",
       "      <th>2023-01-13 00:00:00+00:00</th>\n",
       "      <td>0.329544</td>\n",
       "      <td>0.329544</td>\n",
       "      <td>0.329544</td>\n",
       "      <td>0.329544</td>\n",
       "      <td>0.329544</td>\n",
       "      <td>0</td>\n",
       "    </tr>\n",
       "    <tr>\n",
       "      <th>2023-01-13 00:02:00+00:00</th>\n",
       "      <td>0.329586</td>\n",
       "      <td>0.329608</td>\n",
       "      <td>0.329586</td>\n",
       "      <td>0.329608</td>\n",
       "      <td>0.329608</td>\n",
       "      <td>0</td>\n",
       "    </tr>\n",
       "    <tr>\n",
       "      <th>2023-01-13 00:04:00+00:00</th>\n",
       "      <td>0.330013</td>\n",
       "      <td>0.330054</td>\n",
       "      <td>0.330013</td>\n",
       "      <td>0.330054</td>\n",
       "      <td>0.330054</td>\n",
       "      <td>0</td>\n",
       "    </tr>\n",
       "    <tr>\n",
       "      <th>2023-01-13 00:06:00+00:00</th>\n",
       "      <td>0.330102</td>\n",
       "      <td>0.330102</td>\n",
       "      <td>0.329944</td>\n",
       "      <td>0.329944</td>\n",
       "      <td>0.329944</td>\n",
       "      <td>26176</td>\n",
       "    </tr>\n",
       "    <tr>\n",
       "      <th>2023-01-13 00:08:00+00:00</th>\n",
       "      <td>0.329890</td>\n",
       "      <td>0.329890</td>\n",
       "      <td>0.329890</td>\n",
       "      <td>0.329890</td>\n",
       "      <td>0.329890</td>\n",
       "      <td>0</td>\n",
       "    </tr>\n",
       "    <tr>\n",
       "      <th>...</th>\n",
       "      <td>...</td>\n",
       "      <td>...</td>\n",
       "      <td>...</td>\n",
       "      <td>...</td>\n",
       "      <td>...</td>\n",
       "      <td>...</td>\n",
       "    </tr>\n",
       "    <tr>\n",
       "      <th>2023-02-16 23:48:00+00:00</th>\n",
       "      <td>0.388500</td>\n",
       "      <td>0.388500</td>\n",
       "      <td>0.388500</td>\n",
       "      <td>0.388500</td>\n",
       "      <td>0.388500</td>\n",
       "      <td>0</td>\n",
       "    </tr>\n",
       "    <tr>\n",
       "      <th>2023-02-16 23:50:00+00:00</th>\n",
       "      <td>0.388587</td>\n",
       "      <td>0.388587</td>\n",
       "      <td>0.388587</td>\n",
       "      <td>0.388587</td>\n",
       "      <td>0.388587</td>\n",
       "      <td>73088</td>\n",
       "    </tr>\n",
       "    <tr>\n",
       "      <th>2023-02-16 23:52:00+00:00</th>\n",
       "      <td>0.388398</td>\n",
       "      <td>0.388398</td>\n",
       "      <td>0.388345</td>\n",
       "      <td>0.388345</td>\n",
       "      <td>0.388345</td>\n",
       "      <td>0</td>\n",
       "    </tr>\n",
       "    <tr>\n",
       "      <th>2023-02-16 23:54:00+00:00</th>\n",
       "      <td>0.387687</td>\n",
       "      <td>0.387687</td>\n",
       "      <td>0.387687</td>\n",
       "      <td>0.387687</td>\n",
       "      <td>0.387687</td>\n",
       "      <td>0</td>\n",
       "    </tr>\n",
       "    <tr>\n",
       "      <th>2023-02-16 23:56:00+00:00</th>\n",
       "      <td>0.387743</td>\n",
       "      <td>0.387848</td>\n",
       "      <td>0.387743</td>\n",
       "      <td>0.387848</td>\n",
       "      <td>0.387848</td>\n",
       "      <td>0</td>\n",
       "    </tr>\n",
       "  </tbody>\n",
       "</table>\n",
       "<p>25192 rows × 6 columns</p>\n",
       "</div>"
      ],
      "text/plain": [
       "                               Open      High       Low     Close  Adj Close  \\\n",
       "Datetime                                                                       \n",
       "2023-01-13 00:00:00+00:00  0.329544  0.329544  0.329544  0.329544   0.329544   \n",
       "2023-01-13 00:02:00+00:00  0.329586  0.329608  0.329586  0.329608   0.329608   \n",
       "2023-01-13 00:04:00+00:00  0.330013  0.330054  0.330013  0.330054   0.330054   \n",
       "2023-01-13 00:06:00+00:00  0.330102  0.330102  0.329944  0.329944   0.329944   \n",
       "2023-01-13 00:08:00+00:00  0.329890  0.329890  0.329890  0.329890   0.329890   \n",
       "...                             ...       ...       ...       ...        ...   \n",
       "2023-02-16 23:48:00+00:00  0.388500  0.388500  0.388500  0.388500   0.388500   \n",
       "2023-02-16 23:50:00+00:00  0.388587  0.388587  0.388587  0.388587   0.388587   \n",
       "2023-02-16 23:52:00+00:00  0.388398  0.388398  0.388345  0.388345   0.388345   \n",
       "2023-02-16 23:54:00+00:00  0.387687  0.387687  0.387687  0.387687   0.387687   \n",
       "2023-02-16 23:56:00+00:00  0.387743  0.387848  0.387743  0.387848   0.387848   \n",
       "\n",
       "                           Volume  \n",
       "Datetime                           \n",
       "2023-01-13 00:00:00+00:00       0  \n",
       "2023-01-13 00:02:00+00:00       0  \n",
       "2023-01-13 00:04:00+00:00       0  \n",
       "2023-01-13 00:06:00+00:00   26176  \n",
       "2023-01-13 00:08:00+00:00       0  \n",
       "...                           ...  \n",
       "2023-02-16 23:48:00+00:00       0  \n",
       "2023-02-16 23:50:00+00:00   73088  \n",
       "2023-02-16 23:52:00+00:00       0  \n",
       "2023-02-16 23:54:00+00:00       0  \n",
       "2023-02-16 23:56:00+00:00       0  \n",
       "\n",
       "[25192 rows x 6 columns]"
      ]
     },
     "execution_count": 44,
     "metadata": {},
     "output_type": "execute_result"
    }
   ],
   "source": [
    "\n",
    "data = yf.download(ticker, start, end, interval=interval)\n",
    "\n",
    "data"
   ]
  },
  {
   "cell_type": "code",
   "execution_count": null,
   "metadata": {},
   "outputs": [],
   "source": []
  }
 ],
 "metadata": {
  "kernelspec": {
   "display_name": "Python 3",
   "language": "python",
   "name": "python3"
  },
  "language_info": {
   "codemirror_mode": {
    "name": "ipython",
    "version": 3
   },
   "file_extension": ".py",
   "mimetype": "text/x-python",
   "name": "python",
   "nbconvert_exporter": "python",
   "pygments_lexer": "ipython3",
   "version": "3.9.7"
  },
  "orig_nbformat": 4,
  "vscode": {
   "interpreter": {
    "hash": "ec7fa3fe11626117b5e1e8a2eddb203927053b357682671e5e24c6ea87a5b018"
   }
  }
 },
 "nbformat": 4,
 "nbformat_minor": 2
}
