{
 "cells": [
  {
   "cell_type": "code",
   "execution_count": null,
   "metadata": {},
   "outputs": [],
   "source": [
    "pip install yfinance\n"
   ]
  },
  {
   "cell_type": "code",
   "execution_count": 1,
   "metadata": {},
   "outputs": [],
   "source": [
    "import yfinance as yf\n",
    "from datetime import datetime\n",
    "import time\n"
   ]
  },
  {
   "cell_type": "code",
   "execution_count": 2,
   "metadata": {},
   "outputs": [],
   "source": [
    "ticker = \"ADA-USD\"\n",
    "start = \"2010-11-10\"\n",
    "end = \"2020-12-20\"\n",
    "end1 = datetime.now()\n",
    "interval = \"1d\"\n"
   ]
  },
  {
   "cell_type": "code",
   "execution_count": 10,
   "metadata": {},
   "outputs": [
    {
     "name": "stdout",
     "output_type": "stream",
     "text": [
      "<class 'datetime.datetime'>\n",
      "Yess\n"
     ]
    }
   ],
   "source": [
    "type(end1)\n",
    "print(type(end1))\n",
    "\n",
    "if str(type(end1))  == \"<class 'datetime.datetime'>\" :\n",
    "    print( \"Yess\")"
   ]
  },
  {
   "cell_type": "code",
   "execution_count": 91,
   "metadata": {},
   "outputs": [
    {
     "data": {
      "text/plain": [
       "1501"
      ]
     },
     "execution_count": 91,
     "metadata": {},
     "output_type": "execute_result"
    }
   ],
   "source": [
    "startDate = date(int(start[0:4]) , int(start[5:7]),  int(start[8:10]))\n",
    "endDate = date(int(end[0:4]) , int(end[5:7]),  int(end[8:10]))\n",
    "\n",
    "t = endDate - startDate\n",
    "t.days\n",
    "#end - startDate"
   ]
  },
  {
   "cell_type": "code",
   "execution_count": null,
   "metadata": {},
   "outputs": [],
   "source": []
  },
  {
   "cell_type": "code",
   "execution_count": null,
   "metadata": {},
   "outputs": [],
   "source": [
    "start[0:4]"
   ]
  },
  {
   "cell_type": "markdown",
   "metadata": {},
   "source": [
    "باید کدی نوشته شود که \n",
    "1 : نخست اختلاف را بدست آورد\n",
    "2 : سپس متغیر interval  را بررسی کند.\n",
    "3 : برای بازه یک روز باید طول فاصله زیر یا مساوی 60 روز باشد\n",
    "4 : برای "
   ]
  },
  {
   "cell_type": "code",
   "execution_count": null,
   "metadata": {},
   "outputs": [],
   "source": [
    "intEnd= int(''.join(end.split('-')))\n",
    "\n",
    "intStart = int(''.join(start.split('-')))\n",
    "intEnd , intStart\n"
   ]
  },
  {
   "cell_type": "code",
   "execution_count": null,
   "metadata": {},
   "outputs": [],
   "source": []
  },
  {
   "cell_type": "code",
   "execution_count": null,
   "metadata": {},
   "outputs": [],
   "source": [
    "from datetime import date, timedelta\n",
    "date1 = date(2011, 10, 10)\n",
    "date3 = date(2011, 10, 11)\n",
    "#date2 = date1 + timedelta(days=22)\n",
    "date3\n",
    "#print (date2)"
   ]
  },
  {
   "cell_type": "code",
   "execution_count": 29,
   "metadata": {},
   "outputs": [],
   "source": [
    "ticker = \"ADA-USD\"\n",
    "start = \"2021-02-18\"\n",
    "end = \"2023-02-17\"\n",
    "#end = datetime.now()\n",
    "interval = \"1h\""
   ]
  },
  {
   "cell_type": "code",
   "execution_count": 30,
   "metadata": {},
   "outputs": [
    {
     "name": "stdout",
     "output_type": "stream",
     "text": [
      "[*********************100%***********************]  1 of 1 completed\n"
     ]
    },
    {
     "data": {
      "text/html": [
       "<div>\n",
       "<style scoped>\n",
       "    .dataframe tbody tr th:only-of-type {\n",
       "        vertical-align: middle;\n",
       "    }\n",
       "\n",
       "    .dataframe tbody tr th {\n",
       "        vertical-align: top;\n",
       "    }\n",
       "\n",
       "    .dataframe thead th {\n",
       "        text-align: right;\n",
       "    }\n",
       "</style>\n",
       "<table border=\"1\" class=\"dataframe\">\n",
       "  <thead>\n",
       "    <tr style=\"text-align: right;\">\n",
       "      <th></th>\n",
       "      <th>Open</th>\n",
       "      <th>High</th>\n",
       "      <th>Low</th>\n",
       "      <th>Close</th>\n",
       "      <th>Adj Close</th>\n",
       "      <th>Volume</th>\n",
       "    </tr>\n",
       "    <tr>\n",
       "      <th>Datetime</th>\n",
       "      <th></th>\n",
       "      <th></th>\n",
       "      <th></th>\n",
       "      <th></th>\n",
       "      <th></th>\n",
       "      <th></th>\n",
       "    </tr>\n",
       "  </thead>\n",
       "  <tbody>\n",
       "    <tr>\n",
       "      <th>2021-02-18 00:00:00+00:00</th>\n",
       "      <td>0.890869</td>\n",
       "      <td>0.903902</td>\n",
       "      <td>0.890869</td>\n",
       "      <td>0.901579</td>\n",
       "      <td>0.901579</td>\n",
       "      <td>61819392</td>\n",
       "    </tr>\n",
       "    <tr>\n",
       "      <th>2021-02-18 01:00:00+00:00</th>\n",
       "      <td>0.901428</td>\n",
       "      <td>0.919448</td>\n",
       "      <td>0.897830</td>\n",
       "      <td>0.916294</td>\n",
       "      <td>0.916294</td>\n",
       "      <td>132171776</td>\n",
       "    </tr>\n",
       "    <tr>\n",
       "      <th>2021-02-18 02:00:00+00:00</th>\n",
       "      <td>0.915757</td>\n",
       "      <td>0.921916</td>\n",
       "      <td>0.908968</td>\n",
       "      <td>0.921885</td>\n",
       "      <td>0.921885</td>\n",
       "      <td>24070656</td>\n",
       "    </tr>\n",
       "    <tr>\n",
       "      <th>2021-02-18 03:00:00+00:00</th>\n",
       "      <td>0.920956</td>\n",
       "      <td>0.920956</td>\n",
       "      <td>0.906574</td>\n",
       "      <td>0.906937</td>\n",
       "      <td>0.906937</td>\n",
       "      <td>0</td>\n",
       "    </tr>\n",
       "    <tr>\n",
       "      <th>2021-02-18 04:00:00+00:00</th>\n",
       "      <td>0.907091</td>\n",
       "      <td>0.916852</td>\n",
       "      <td>0.907091</td>\n",
       "      <td>0.914849</td>\n",
       "      <td>0.914849</td>\n",
       "      <td>19799552</td>\n",
       "    </tr>\n",
       "    <tr>\n",
       "      <th>...</th>\n",
       "      <td>...</td>\n",
       "      <td>...</td>\n",
       "      <td>...</td>\n",
       "      <td>...</td>\n",
       "      <td>...</td>\n",
       "      <td>...</td>\n",
       "    </tr>\n",
       "    <tr>\n",
       "      <th>2023-02-16 19:00:00+00:00</th>\n",
       "      <td>0.409050</td>\n",
       "      <td>0.409050</td>\n",
       "      <td>0.405047</td>\n",
       "      <td>0.405098</td>\n",
       "      <td>0.405098</td>\n",
       "      <td>0</td>\n",
       "    </tr>\n",
       "    <tr>\n",
       "      <th>2023-02-16 20:00:00+00:00</th>\n",
       "      <td>0.405076</td>\n",
       "      <td>0.405507</td>\n",
       "      <td>0.397471</td>\n",
       "      <td>0.399954</td>\n",
       "      <td>0.399954</td>\n",
       "      <td>0</td>\n",
       "    </tr>\n",
       "    <tr>\n",
       "      <th>2023-02-16 21:00:00+00:00</th>\n",
       "      <td>0.399721</td>\n",
       "      <td>0.399746</td>\n",
       "      <td>0.397234</td>\n",
       "      <td>0.397433</td>\n",
       "      <td>0.397433</td>\n",
       "      <td>0</td>\n",
       "    </tr>\n",
       "    <tr>\n",
       "      <th>2023-02-16 22:00:00+00:00</th>\n",
       "      <td>0.397473</td>\n",
       "      <td>0.398145</td>\n",
       "      <td>0.390868</td>\n",
       "      <td>0.391616</td>\n",
       "      <td>0.391616</td>\n",
       "      <td>3732800</td>\n",
       "    </tr>\n",
       "    <tr>\n",
       "      <th>2023-02-16 23:00:00+00:00</th>\n",
       "      <td>0.391133</td>\n",
       "      <td>0.391894</td>\n",
       "      <td>0.387687</td>\n",
       "      <td>0.387848</td>\n",
       "      <td>0.387848</td>\n",
       "      <td>0</td>\n",
       "    </tr>\n",
       "  </tbody>\n",
       "</table>\n",
       "<p>17271 rows × 6 columns</p>\n",
       "</div>"
      ],
      "text/plain": [
       "                               Open      High       Low     Close  Adj Close  \\\n",
       "Datetime                                                                       \n",
       "2021-02-18 00:00:00+00:00  0.890869  0.903902  0.890869  0.901579   0.901579   \n",
       "2021-02-18 01:00:00+00:00  0.901428  0.919448  0.897830  0.916294   0.916294   \n",
       "2021-02-18 02:00:00+00:00  0.915757  0.921916  0.908968  0.921885   0.921885   \n",
       "2021-02-18 03:00:00+00:00  0.920956  0.920956  0.906574  0.906937   0.906937   \n",
       "2021-02-18 04:00:00+00:00  0.907091  0.916852  0.907091  0.914849   0.914849   \n",
       "...                             ...       ...       ...       ...        ...   \n",
       "2023-02-16 19:00:00+00:00  0.409050  0.409050  0.405047  0.405098   0.405098   \n",
       "2023-02-16 20:00:00+00:00  0.405076  0.405507  0.397471  0.399954   0.399954   \n",
       "2023-02-16 21:00:00+00:00  0.399721  0.399746  0.397234  0.397433   0.397433   \n",
       "2023-02-16 22:00:00+00:00  0.397473  0.398145  0.390868  0.391616   0.391616   \n",
       "2023-02-16 23:00:00+00:00  0.391133  0.391894  0.387687  0.387848   0.387848   \n",
       "\n",
       "                              Volume  \n",
       "Datetime                              \n",
       "2021-02-18 00:00:00+00:00   61819392  \n",
       "2021-02-18 01:00:00+00:00  132171776  \n",
       "2021-02-18 02:00:00+00:00   24070656  \n",
       "2021-02-18 03:00:00+00:00          0  \n",
       "2021-02-18 04:00:00+00:00   19799552  \n",
       "...                              ...  \n",
       "2023-02-16 19:00:00+00:00          0  \n",
       "2023-02-16 20:00:00+00:00          0  \n",
       "2023-02-16 21:00:00+00:00          0  \n",
       "2023-02-16 22:00:00+00:00    3732800  \n",
       "2023-02-16 23:00:00+00:00          0  \n",
       "\n",
       "[17271 rows x 6 columns]"
      ]
     },
     "execution_count": 30,
     "metadata": {},
     "output_type": "execute_result"
    }
   ],
   "source": [
    "\n",
    "data = yf.download(ticker, start, end, interval=interval)\n",
    "\n",
    "data"
   ]
  },
  {
   "cell_type": "code",
   "execution_count": null,
   "metadata": {},
   "outputs": [],
   "source": []
  }
 ],
 "metadata": {
  "kernelspec": {
   "display_name": "Python 3",
   "language": "python",
   "name": "python3"
  },
  "language_info": {
   "codemirror_mode": {
    "name": "ipython",
    "version": 3
   },
   "file_extension": ".py",
   "mimetype": "text/x-python",
   "name": "python",
   "nbconvert_exporter": "python",
   "pygments_lexer": "ipython3",
   "version": "3.9.7"
  },
  "orig_nbformat": 4,
  "vscode": {
   "interpreter": {
    "hash": "ec7fa3fe11626117b5e1e8a2eddb203927053b357682671e5e24c6ea87a5b018"
   }
  }
 },
 "nbformat": 4,
 "nbformat_minor": 2
}
