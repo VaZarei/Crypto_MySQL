{
 "cells": [
  {
   "cell_type": "code",
   "execution_count": 3,
   "metadata": {},
   "outputs": [
    {
     "name": "stdout",
     "output_type": "stream",
     "text": [
      "Requirement already satisfied: yfinance in c:\\users\\chalipa\\anaconda3\\lib\\site-packages (0.2.11)\n",
      "Requirement already satisfied: cryptography>=3.3.2 in c:\\users\\chalipa\\anaconda3\\lib\\site-packages (from yfinance) (3.4.8)\n",
      "Requirement already satisfied: multitasking>=0.0.7 in c:\\users\\chalipa\\anaconda3\\lib\\site-packages (from yfinance) (0.0.11)\n",
      "Requirement already satisfied: pytz>=2022.5 in c:\\users\\chalipa\\anaconda3\\lib\\site-packages (from yfinance) (2022.7.1)\n",
      "Note: you may need to restart the kernel to use updated packages.\n",
      "Requirement already satisfied: beautifulsoup4>=4.11.1 in c:\\users\\chalipa\\anaconda3\\lib\\site-packages (from yfinance) (4.11.2)\n",
      "Requirement already satisfied: html5lib>=1.1 in c:\\users\\chalipa\\anaconda3\\lib\\site-packages (from yfinance) (1.1)\n",
      "Requirement already satisfied: lxml>=4.9.1 in c:\\users\\chalipa\\anaconda3\\lib\\site-packages (from yfinance) (4.9.2)\n",
      "Requirement already satisfied: requests>=2.26 in c:\\users\\chalipa\\anaconda3\\lib\\site-packages (from yfinance) (2.26.0)\n",
      "Requirement already satisfied: numpy>=1.16.5 in c:\\users\\chalipa\\anaconda3\\lib\\site-packages (from yfinance) (1.20.3)\n",
      "Requirement already satisfied: appdirs>=1.4.4 in c:\\users\\chalipa\\anaconda3\\lib\\site-packages (from yfinance) (1.4.4)\n",
      "Requirement already satisfied: frozendict>=2.3.4 in c:\\users\\chalipa\\anaconda3\\lib\\site-packages (from yfinance) (2.3.4)\n",
      "Requirement already satisfied: pandas>=1.3.0 in c:\\users\\chalipa\\anaconda3\\lib\\site-packages (from yfinance) (1.3.4)\n",
      "Requirement already satisfied: soupsieve>1.2 in c:\\users\\chalipa\\anaconda3\\lib\\site-packages (from beautifulsoup4>=4.11.1->yfinance) (2.2.1)\n",
      "Requirement already satisfied: cffi>=1.12 in c:\\users\\chalipa\\anaconda3\\lib\\site-packages (from cryptography>=3.3.2->yfinance) (1.14.6)\n",
      "Requirement already satisfied: pycparser in c:\\users\\chalipa\\anaconda3\\lib\\site-packages (from cffi>=1.12->cryptography>=3.3.2->yfinance) (2.20)\n",
      "Requirement already satisfied: six>=1.9 in c:\\users\\chalipa\\anaconda3\\lib\\site-packages (from html5lib>=1.1->yfinance) (1.16.0)\n",
      "Requirement already satisfied: webencodings in c:\\users\\chalipa\\anaconda3\\lib\\site-packages (from html5lib>=1.1->yfinance) (0.5.1)\n",
      "Requirement already satisfied: python-dateutil>=2.7.3 in c:\\users\\chalipa\\anaconda3\\lib\\site-packages (from pandas>=1.3.0->yfinance) (2.8.2)\n",
      "Requirement already satisfied: urllib3<1.27,>=1.21.1 in c:\\users\\chalipa\\anaconda3\\lib\\site-packages (from requests>=2.26->yfinance) (1.26.7)\n",
      "Requirement already satisfied: certifi>=2017.4.17 in c:\\users\\chalipa\\anaconda3\\lib\\site-packages (from requests>=2.26->yfinance) (2021.10.8)\n",
      "Requirement already satisfied: charset-normalizer~=2.0.0 in c:\\users\\chalipa\\anaconda3\\lib\\site-packages (from requests>=2.26->yfinance) (2.0.4)\n",
      "Requirement already satisfied: idna<4,>=2.5 in c:\\users\\chalipa\\anaconda3\\lib\\site-packages (from requests>=2.26->yfinance) (3.2)\n"
     ]
    }
   ],
   "source": [
    "pip install yfinance\n"
   ]
  },
  {
   "cell_type": "code",
   "execution_count": 2,
   "metadata": {},
   "outputs": [],
   "source": [
    "import yfinance as yf\n",
    "from datetime import datetime\n",
    "import time\n"
   ]
  },
  {
   "cell_type": "code",
   "execution_count": 134,
   "metadata": {},
   "outputs": [
    {
     "data": {
      "text/plain": [
       "'16:34:45.313966'"
      ]
     },
     "execution_count": 134,
     "metadata": {},
     "output_type": "execute_result"
    }
   ],
   "source": [
    "ticker = \"ADA-USD\"\n",
    "start = \"2020-11-10\"\n",
    "#end = \"2020-12-20\"\n",
    "end = datetime.now()\n",
    "interval = \"1d\"\n",
    "str(end.date())\n",
    "str(end.time())"
   ]
  },
  {
   "cell_type": "code",
   "execution_count": 121,
   "metadata": {},
   "outputs": [
    {
     "data": {
      "text/plain": [
       "datetime.timedelta(days=40)"
      ]
     },
     "execution_count": 121,
     "metadata": {},
     "output_type": "execute_result"
    }
   ],
   "source": [
    "startDate = date(int(start[0:4]) , int(start[5:7]),  int(start[8:10]))\n",
    "endDate = date(int(end[0:4]) , int(end[5:7]),  int(end[8:10]))\n",
    "\n",
    "endDate - startDate\n",
    "#end - startDate"
   ]
  },
  {
   "cell_type": "code",
   "execution_count": 112,
   "metadata": {},
   "outputs": [
    {
     "data": {
      "text/plain": [
       "(20201220, 20201110)"
      ]
     },
     "execution_count": 112,
     "metadata": {},
     "output_type": "execute_result"
    }
   ],
   "source": [
    "intEnd= int(''.join(end.split('-')))\n",
    "\n",
    "intStart = int(''.join(start.split('-')))\n",
    "intEnd , intStart\n"
   ]
  },
  {
   "cell_type": "code",
   "execution_count": null,
   "metadata": {},
   "outputs": [],
   "source": []
  },
  {
   "cell_type": "code",
   "execution_count": 127,
   "metadata": {},
   "outputs": [
    {
     "ename": "TypeError",
     "evalue": "an integer is required (got type datetime.date)",
     "output_type": "error",
     "traceback": [
      "\u001b[1;31m---------------------------------------------------------------------------\u001b[0m",
      "\u001b[1;31mTypeError\u001b[0m                                 Traceback (most recent call last)",
      "\u001b[1;32m~\\AppData\\Local\\Temp/ipykernel_12092/1191012090.py\u001b[0m in \u001b[0;36m<module>\u001b[1;34m\u001b[0m\n\u001b[0;32m      1\u001b[0m \u001b[1;32mfrom\u001b[0m \u001b[0mdatetime\u001b[0m \u001b[1;32mimport\u001b[0m \u001b[0mdate\u001b[0m\u001b[1;33m,\u001b[0m \u001b[0mtimedelta\u001b[0m\u001b[1;33m\u001b[0m\u001b[1;33m\u001b[0m\u001b[0m\n\u001b[0;32m      2\u001b[0m \u001b[0mdate1\u001b[0m \u001b[1;33m=\u001b[0m \u001b[0mdate\u001b[0m\u001b[1;33m(\u001b[0m\u001b[1;36m2011\u001b[0m\u001b[1;33m,\u001b[0m \u001b[1;36m10\u001b[0m\u001b[1;33m,\u001b[0m \u001b[1;36m10\u001b[0m\u001b[1;33m)\u001b[0m\u001b[1;33m\u001b[0m\u001b[1;33m\u001b[0m\u001b[0m\n\u001b[1;32m----> 3\u001b[1;33m \u001b[0mdate3\u001b[0m \u001b[1;33m=\u001b[0m \u001b[0mdate\u001b[0m\u001b[1;33m(\u001b[0m\u001b[0mdatetime\u001b[0m\u001b[1;33m.\u001b[0m\u001b[0mnow\u001b[0m\u001b[1;33m(\u001b[0m\u001b[1;33m)\u001b[0m\u001b[1;33m.\u001b[0m\u001b[0mdate\u001b[0m\u001b[1;33m(\u001b[0m\u001b[1;33m)\u001b[0m\u001b[1;33m)\u001b[0m\u001b[1;33m\u001b[0m\u001b[1;33m\u001b[0m\u001b[0m\n\u001b[0m\u001b[0;32m      4\u001b[0m \u001b[1;31m#date2 = date1 + timedelta(days=22)\u001b[0m\u001b[1;33m\u001b[0m\u001b[1;33m\u001b[0m\u001b[0m\n\u001b[0;32m      5\u001b[0m \u001b[0mdate3\u001b[0m \u001b[1;33m-\u001b[0m \u001b[0mdate1\u001b[0m\u001b[1;33m\u001b[0m\u001b[1;33m\u001b[0m\u001b[0m\n",
      "\u001b[1;31mTypeError\u001b[0m: an integer is required (got type datetime.date)"
     ]
    }
   ],
   "source": [
    "from datetime import date, timedelta\n",
    "date1 = date(2011, 10, 10)\n",
    "date3 = date(datetime.now().date())\n",
    "#date2 = date1 + timedelta(days=22)\n",
    "date3 - date1\n",
    "#print (date2)"
   ]
  },
  {
   "cell_type": "code",
   "execution_count": 19,
   "metadata": {},
   "outputs": [
    {
     "name": "stdout",
     "output_type": "stream",
     "text": [
      "[*********************100%***********************]  1 of 1 completed\n"
     ]
    },
    {
     "data": {
      "text/html": [
       "<div>\n",
       "<style scoped>\n",
       "    .dataframe tbody tr th:only-of-type {\n",
       "        vertical-align: middle;\n",
       "    }\n",
       "\n",
       "    .dataframe tbody tr th {\n",
       "        vertical-align: top;\n",
       "    }\n",
       "\n",
       "    .dataframe thead th {\n",
       "        text-align: right;\n",
       "    }\n",
       "</style>\n",
       "<table border=\"1\" class=\"dataframe\">\n",
       "  <thead>\n",
       "    <tr style=\"text-align: right;\">\n",
       "      <th></th>\n",
       "      <th>Open</th>\n",
       "      <th>High</th>\n",
       "      <th>Low</th>\n",
       "      <th>Close</th>\n",
       "      <th>Adj Close</th>\n",
       "      <th>Volume</th>\n",
       "      <th>Dividends</th>\n",
       "      <th>Stock Splits</th>\n",
       "    </tr>\n",
       "    <tr>\n",
       "      <th>Date</th>\n",
       "      <th></th>\n",
       "      <th></th>\n",
       "      <th></th>\n",
       "      <th></th>\n",
       "      <th></th>\n",
       "      <th></th>\n",
       "      <th></th>\n",
       "      <th></th>\n",
       "    </tr>\n",
       "  </thead>\n",
       "  <tbody>\n",
       "    <tr>\n",
       "      <th>2020-09-11</th>\n",
       "      <td>0.097156</td>\n",
       "      <td>0.097526</td>\n",
       "      <td>0.093296</td>\n",
       "      <td>0.096989</td>\n",
       "      <td>0.096989</td>\n",
       "      <td>771197364</td>\n",
       "      <td>0.0</td>\n",
       "      <td>0.0</td>\n",
       "    </tr>\n",
       "    <tr>\n",
       "      <th>2020-09-12</th>\n",
       "      <td>0.097112</td>\n",
       "      <td>0.098710</td>\n",
       "      <td>0.095320</td>\n",
       "      <td>0.097598</td>\n",
       "      <td>0.097598</td>\n",
       "      <td>699214253</td>\n",
       "      <td>0.0</td>\n",
       "      <td>0.0</td>\n",
       "    </tr>\n",
       "    <tr>\n",
       "      <th>2020-09-13</th>\n",
       "      <td>0.097598</td>\n",
       "      <td>0.099751</td>\n",
       "      <td>0.092938</td>\n",
       "      <td>0.094856</td>\n",
       "      <td>0.094856</td>\n",
       "      <td>771663333</td>\n",
       "      <td>0.0</td>\n",
       "      <td>0.0</td>\n",
       "    </tr>\n",
       "    <tr>\n",
       "      <th>2020-09-14</th>\n",
       "      <td>0.094906</td>\n",
       "      <td>0.098179</td>\n",
       "      <td>0.093579</td>\n",
       "      <td>0.096769</td>\n",
       "      <td>0.096769</td>\n",
       "      <td>851692144</td>\n",
       "      <td>0.0</td>\n",
       "      <td>0.0</td>\n",
       "    </tr>\n",
       "    <tr>\n",
       "      <th>2020-09-15</th>\n",
       "      <td>0.096809</td>\n",
       "      <td>0.097932</td>\n",
       "      <td>0.093308</td>\n",
       "      <td>0.093496</td>\n",
       "      <td>0.093496</td>\n",
       "      <td>813329601</td>\n",
       "      <td>0.0</td>\n",
       "      <td>0.0</td>\n",
       "    </tr>\n",
       "    <tr>\n",
       "      <th>...</th>\n",
       "      <td>...</td>\n",
       "      <td>...</td>\n",
       "      <td>...</td>\n",
       "      <td>...</td>\n",
       "      <td>...</td>\n",
       "      <td>...</td>\n",
       "      <td>...</td>\n",
       "      <td>...</td>\n",
       "    </tr>\n",
       "    <tr>\n",
       "      <th>2020-12-15</th>\n",
       "      <td>0.158065</td>\n",
       "      <td>0.159713</td>\n",
       "      <td>0.153355</td>\n",
       "      <td>0.154305</td>\n",
       "      <td>0.154305</td>\n",
       "      <td>607184173</td>\n",
       "      <td>0.0</td>\n",
       "      <td>0.0</td>\n",
       "    </tr>\n",
       "    <tr>\n",
       "      <th>2020-12-16</th>\n",
       "      <td>0.154312</td>\n",
       "      <td>0.167599</td>\n",
       "      <td>0.149976</td>\n",
       "      <td>0.167589</td>\n",
       "      <td>0.167589</td>\n",
       "      <td>976699799</td>\n",
       "      <td>0.0</td>\n",
       "      <td>0.0</td>\n",
       "    </tr>\n",
       "    <tr>\n",
       "      <th>2020-12-17</th>\n",
       "      <td>0.167571</td>\n",
       "      <td>0.174342</td>\n",
       "      <td>0.161644</td>\n",
       "      <td>0.163483</td>\n",
       "      <td>0.163483</td>\n",
       "      <td>1188727265</td>\n",
       "      <td>0.0</td>\n",
       "      <td>0.0</td>\n",
       "    </tr>\n",
       "    <tr>\n",
       "      <th>2020-12-18</th>\n",
       "      <td>0.163449</td>\n",
       "      <td>0.168635</td>\n",
       "      <td>0.159152</td>\n",
       "      <td>0.164988</td>\n",
       "      <td>0.164988</td>\n",
       "      <td>1101018945</td>\n",
       "      <td>0.0</td>\n",
       "      <td>0.0</td>\n",
       "    </tr>\n",
       "    <tr>\n",
       "      <th>2020-12-19</th>\n",
       "      <td>0.164980</td>\n",
       "      <td>0.170486</td>\n",
       "      <td>0.163320</td>\n",
       "      <td>0.164714</td>\n",
       "      <td>0.164714</td>\n",
       "      <td>586684841</td>\n",
       "      <td>0.0</td>\n",
       "      <td>0.0</td>\n",
       "    </tr>\n",
       "  </tbody>\n",
       "</table>\n",
       "<p>100 rows × 8 columns</p>\n",
       "</div>"
      ],
      "text/plain": [
       "                Open      High       Low     Close  Adj Close      Volume  \\\n",
       "Date                                                                        \n",
       "2020-09-11  0.097156  0.097526  0.093296  0.096989   0.096989   771197364   \n",
       "2020-09-12  0.097112  0.098710  0.095320  0.097598   0.097598   699214253   \n",
       "2020-09-13  0.097598  0.099751  0.092938  0.094856   0.094856   771663333   \n",
       "2020-09-14  0.094906  0.098179  0.093579  0.096769   0.096769   851692144   \n",
       "2020-09-15  0.096809  0.097932  0.093308  0.093496   0.093496   813329601   \n",
       "...              ...       ...       ...       ...        ...         ...   \n",
       "2020-12-15  0.158065  0.159713  0.153355  0.154305   0.154305   607184173   \n",
       "2020-12-16  0.154312  0.167599  0.149976  0.167589   0.167589   976699799   \n",
       "2020-12-17  0.167571  0.174342  0.161644  0.163483   0.163483  1188727265   \n",
       "2020-12-18  0.163449  0.168635  0.159152  0.164988   0.164988  1101018945   \n",
       "2020-12-19  0.164980  0.170486  0.163320  0.164714   0.164714   586684841   \n",
       "\n",
       "            Dividends  Stock Splits  \n",
       "Date                                 \n",
       "2020-09-11        0.0           0.0  \n",
       "2020-09-12        0.0           0.0  \n",
       "2020-09-13        0.0           0.0  \n",
       "2020-09-14        0.0           0.0  \n",
       "2020-09-15        0.0           0.0  \n",
       "...               ...           ...  \n",
       "2020-12-15        0.0           0.0  \n",
       "2020-12-16        0.0           0.0  \n",
       "2020-12-17        0.0           0.0  \n",
       "2020-12-18        0.0           0.0  \n",
       "2020-12-19        0.0           0.0  \n",
       "\n",
       "[100 rows x 8 columns]"
      ]
     },
     "execution_count": 19,
     "metadata": {},
     "output_type": "execute_result"
    }
   ],
   "source": [
    "data = yf.download(ticker, start, end, interval)\n",
    "data.tail(100)"
   ]
  },
  {
   "cell_type": "code",
   "execution_count": null,
   "metadata": {},
   "outputs": [],
   "source": [
    "data = yf.download(\"ADA-USD\", start=\"2020-06-02\", end=, interval=\"1d\")\n",
    "data.tail(10)"
   ]
  }
 ],
 "metadata": {
  "interpreter": {
   "hash": "a9d6a17380d4f2bf74f48d7ea6d5e8873b2d05ced240c727502ffaaa02ada5a7"
  },
  "kernelspec": {
   "display_name": "Python 3.9.7 ('base')",
   "language": "python",
   "name": "python3"
  },
  "language_info": {
   "codemirror_mode": {
    "name": "ipython",
    "version": 3
   },
   "file_extension": ".py",
   "mimetype": "text/x-python",
   "name": "python",
   "nbconvert_exporter": "python",
   "pygments_lexer": "ipython3",
   "version": "3.9.7"
  },
  "orig_nbformat": 4
 },
 "nbformat": 4,
 "nbformat_minor": 2
}
